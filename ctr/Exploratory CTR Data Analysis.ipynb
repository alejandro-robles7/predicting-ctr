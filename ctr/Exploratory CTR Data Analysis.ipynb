{
 "cells": [
  {
   "cell_type": "markdown",
   "metadata": {},
   "source": [
    "# Exploratory CTR Data Analysis\n",
    "\n",
    "This chapter provides the foundations for exploratory data analysis (EDA). Using sample data you’ll use the pandas library to look at columns and data types, explore missing data, and use hashing to perform feature engineering on categorical features. All of which are important when exploring features for more accurate CTR prediction."
   ]
  },
  {
   "cell_type": "code",
   "execution_count": 2,
   "metadata": {},
   "outputs": [
    {
     "name": "stdout",
     "output_type": "stream",
     "text": [
      "Index(['advertiser_type', 'app_category', 'app_domain', 'app_id', 'banner_pos',\n",
      "       'click', 'device_conn_type', 'device_id', 'device_ip', 'device_model',\n",
      "       'device_type', 'hour', 'id', 'product_type', 'search_engine_type',\n",
      "       'site_category', 'site_domain', 'site_id'],\n",
      "      dtype='object')\n",
      "advertiser_type        int64\n",
      "app_category          object\n",
      "app_domain            object\n",
      "app_id                object\n",
      "banner_pos             int64\n",
      "click                  int64\n",
      "device_conn_type       int64\n",
      "device_id             object\n",
      "device_ip             object\n",
      "device_model          object\n",
      "device_type            int64\n",
      "hour                   int64\n",
      "id                    uint64\n",
      "product_type           int64\n",
      "search_engine_type     int64\n",
      "site_category         object\n",
      "site_domain           object\n",
      "site_id               object\n",
      "dtype: object\n",
      "Index(['advertiser_type', 'banner_pos', 'click', 'device_conn_type',\n",
      "       'device_type', 'hour', 'product_type', 'search_engine_type'],\n",
      "      dtype='object')\n",
      "Index(['app_category', 'app_domain', 'app_id', 'device_id', 'device_ip',\n",
      "       'device_model', 'site_category', 'site_domain', 'site_id'],\n",
      "      dtype='object')\n"
     ]
    }
   ],
   "source": [
    "# Import data\n",
    "from pandas import read_pickle\n",
    "df = read_pickle(\"data/data_ch2.pkl\")\n",
    "\n",
    "# Print columns\n",
    "print(df.columns)\n",
    "\n",
    "# Print data types of columns\n",
    "print(df.dtypes)\n",
    "\n",
    "# Select and print numeric columns\n",
    "numeric_df = df.select_dtypes(include=['int', 'float'])\n",
    "print(numeric_df.columns)\n",
    "\n",
    "# Select and print categorical columns \n",
    "categorical_df = df.select_dtypes(include=['object'])\n",
    "print(categorical_df.columns)"
   ]
  },
  {
   "cell_type": "markdown",
   "metadata": {},
   "source": [
    "# Checking for missing values\n",
    "\n",
    "Identifying missing values is important for analysis. Using the same dataset, you will get the total number of missing values by iterating over both rows and columns within the dataset. Subject to finding missing values, further methods are needed to handle such values, such as using Imputer from sklearn. Missing values need to be handled, otherwise it will be difficult to conduct proper CTR prediction."
   ]
  },
  {
   "cell_type": "code",
   "execution_count": 3,
   "metadata": {},
   "outputs": [
    {
     "name": "stdout",
     "output_type": "stream",
     "text": [
      "<class 'pandas.core.frame.DataFrame'>\n",
      "RangeIndex: 500 entries, 0 to 499\n",
      "Data columns (total 18 columns):\n",
      "advertiser_type       500 non-null int64\n",
      "app_category          500 non-null object\n",
      "app_domain            500 non-null object\n",
      "app_id                500 non-null object\n",
      "banner_pos            500 non-null int64\n",
      "click                 500 non-null int64\n",
      "device_conn_type      500 non-null int64\n",
      "device_id             500 non-null object\n",
      "device_ip             500 non-null object\n",
      "device_model          500 non-null object\n",
      "device_type           500 non-null int64\n",
      "hour                  500 non-null int64\n",
      "id                    500 non-null uint64\n",
      "product_type          500 non-null int64\n",
      "search_engine_type    500 non-null int64\n",
      "site_category         500 non-null object\n",
      "site_domain           500 non-null object\n",
      "site_id               500 non-null object\n",
      "dtypes: int64(8), object(9), uint64(1)\n",
      "memory usage: 70.4+ KB\n",
      "None\n",
      "advertiser_type       0\n",
      "app_category          0\n",
      "app_domain            0\n",
      "app_id                0\n",
      "banner_pos            0\n",
      "click                 0\n",
      "device_conn_type      0\n",
      "device_id             0\n",
      "device_ip             0\n",
      "device_model          0\n",
      "device_type           0\n",
      "hour                  0\n",
      "id                    0\n",
      "product_type          0\n",
      "search_engine_type    0\n",
      "site_category         0\n",
      "site_domain           0\n",
      "site_id               0\n",
      "dtype: int64\n",
      "0\n"
     ]
    }
   ],
   "source": [
    "# Print info\n",
    "print(df.info())\n",
    "\n",
    "# Print missing values by column \n",
    "print(df.isnull().sum(axis = 0))\n",
    "\n",
    "# Print total number of missing values in rows\n",
    "print(df.isnull().sum(axis = 1).sum())"
   ]
  },
  {
   "cell_type": "markdown",
   "metadata": {},
   "source": [
    "# Distributions by CTR\n",
    "For any individual feature, it is useful to look at both the distribution of a feature, as well as how it varies with the variable of interest. In this exercise, you will explore the search_engine_type feature, which represents an integer denoting the search engine, such as Google or Bing, by which the user expressed intent leading up to ad. Due to privacy reasons, these categories are anonymous. First you will construct and look at the distribution of search_engine_type. Then you will look at how CTR varies based on search_engine_type value, similar to how you looked at CTR breakdown by device type and banner position in the previous chapter."
   ]
  },
  {
   "cell_type": "code",
   "execution_count": 7,
   "metadata": {},
   "outputs": [
    {
     "data": {
      "image/png": "[encoded data removed]",
      "text/plain": [
       "<Figure size 432x288 with 1 Axes>"
      ]
     },
     "metadata": {
      "needs_background": "light"
     },
     "output_type": "display_data"
    },
    {
     "name": "stdout",
     "output_type": "stream",
     "text": [
      "click  search_engine_type  clicks  total       CTR\n",
      "0                    1002     5.0   14.0  0.357143\n",
      "1                    1005    72.0  475.0  0.151579\n",
      "2                    1007     1.0    NaN       NaN\n",
      "3                    1010     NaN    NaN       NaN\n"
     ]
    }
   ],
   "source": [
    "# Construct bar chart for clicks by search engine type\n",
    "se_df = df.groupby(['search_engine_type', 'click']).size().unstack()\n",
    "se_df.plot(kind = 'bar', title = 'Value frequency for search engine type')\n",
    "plt.show()\n",
    "\n",
    "# Reset index and rename columns\n",
    "se_df = se_df.reset_index()\n",
    "se_df.rename(columns = {0: 'non_clicks', 1: 'clicks'}, inplace = True)\n",
    "\n",
    "# Compute CTR using clicks and non clicks\n",
    "se_df['total'] = se_df['clicks'] + se_df['non_clicks']\n",
    "se_df['CTR'] = se_df['clicks'] / se_df['total']\n",
    "\n",
    "# Print CTR by search engine type\n",
    "print(se_df[['search_engine_type', 'clicks', 'total', 'CTR']])"
   ]
  },
  {
   "cell_type": "markdown",
   "metadata": {},
   "source": [
    "Note the most of the search engine type values are one particular value (category 1005) - which may represent Google. Also, it appears that CTR varies by search engine type value (highest for the category 1002), similar to the case with device type and banner position values. Therefore, it is likely useful for predicting CTR and should be included in future prediction models."
   ]
  },
  {
   "cell_type": "markdown",
   "metadata": {},
   "source": [
    "# Analyzing datetime columns\n",
    "Feature engineering is an important step in all machine learning workflows in order to process features from different data types. In particular, datetime columns are common in many datasets. In this exercise, you will explore the hour column in the dataset, which is stored as an integer but represents a datetime. First you will parse the hour column to convert it into a datetime column. Then you will extract the hour of the day from that datetime column, and calculate the total number of clicks based on that hour of the day."
   ]
  },
  {
   "cell_type": "code",
   "execution_count": 8,
   "metadata": {},
   "outputs": [
    {
     "name": "stdout",
     "output_type": "stream",
     "text": [
      "   advertiser_type app_category app_domain    app_id  banner_pos  click  \\\n",
      "0               48     0f2161f8   2347f47a  f0d41ff1           0      0   \n",
      "1               79     07d7df22   7801e8d9  ecad2386           0      0   \n",
      "2               79     07d7df22   7801e8d9  ecad2386           0      0   \n",
      "3               79     07d7df22   7801e8d9  ecad2386           1      0   \n",
      "4              157     0f2161f8   2347f47a  5e3f096f           0      0   \n",
      "\n",
      "   device_conn_type device_id device_ip device_model  device_type  \\\n",
      "0                 0  a99f214a  99f6dbf7     58202c40            1   \n",
      "1                 2  a99f214a  95b2935e     8d19d3d4            1   \n",
      "2                 0  a99f214a  431b3174     c4cff2ea            1   \n",
      "3                 0  a99f214a  aa163d04     8a4875bd            1   \n",
      "4                 0  a99f214a  d2f6e793     1610002a            1   \n",
      "\n",
      "                 hour                    id  product_type  search_engine_type  \\\n",
      "0 2014-10-21 02:00:00  13124278056745303300           687                1005   \n",
      "1 2014-10-21 02:00:00  11768152745587996909            35                1005   \n",
      "2 2014-10-21 02:00:00  13420865421990613919            35                1005   \n",
      "3 2014-10-21 02:00:00  10384049387806107497            35                1005   \n",
      "4 2014-10-21 01:00:00   9811223304943165046            35                1005   \n",
      "\n",
      "  site_category site_domain   site_id  hour_of_day  \n",
      "0      50e219e0    c4e18dd6  85f751fd            2  \n",
      "1      28905ebd    f3845767  1fbe01fe            2  \n",
      "2      28905ebd    f3845767  1fbe01fe            2  \n",
      "3      f028772b    98572c79  d9750ee7            2  \n",
      "4      50e219e0    c4e18dd6  85f751fd            1  \n"
     ]
    },
    {
     "data": {
      "image/png": "[encoded data removed]",
      "text/plain": [
       "<Figure size 864x432 with 1 Axes>"
      ]
     },
     "metadata": {
      "needs_background": "light"
     },
     "output_type": "display_data"
    }
   ],
   "source": [
    "from pandas import to_datetime\n",
    "\n",
    "# Change the hour column to a datetime and extract hour of day\n",
    "df['hour'] = to_datetime(df['hour'], format = '%y%m%d%H')\n",
    "df['hour_of_day'] = df['hour'].dt.hour\n",
    "print(df.head(5))\n",
    "\n",
    "# Get and plot total clicks by hour of day\n",
    "df.groupby('hour_of_day')['click'].sum().plot.bar(figsize=(12,6))\n",
    "plt.ylabel('Number of clicks')\n",
    "plt.title('Number of clicks by hour of day')\n",
    "plt.show()"
   ]
  },
  {
   "cell_type": "markdown",
   "metadata": {},
   "source": [
    "# Converting categorical variables\n",
    "Because sklearn requires numerical features as inputs for models, it is important to encode categorical variables into numerical ones. The most common technique, called \"one-hot encoding\", is straightforward but has high memory consumption. To that end, you will use the technique of hashing, which maps categorical inputs into numerical ones, for each categorical column."
   ]
  },
  {
   "cell_type": "code",
   "execution_count": 12,
   "metadata": {},
   "outputs": [
    {
     "name": "stdout",
     "output_type": "stream",
     "text": [
      "Categorical columns: \n",
      "['app_category', 'app_domain', 'app_id', 'device_id', 'device_ip', 'device_model', 'site_category', 'site_domain', 'site_id']\n",
      "   advertiser_type         app_category           app_domain  \\\n",
      "0               48 -6331854816477907478 -1057993732622977416   \n",
      "1               79  6095358548977309062  2285468481470867730   \n",
      "2               79  6095358548977309062  2285468481470867730   \n",
      "3               79  6095358548977309062  2285468481470867730   \n",
      "4              157 -6331854816477907478 -1057993732622977416   \n",
      "\n",
      "                app_id  banner_pos  click  device_conn_type  \\\n",
      "0  2300043273097231031           0      0                 0   \n",
      "1 -2736973466362614021           0      0                 2   \n",
      "2 -2736973466362614021           0      0                 0   \n",
      "3 -2736973466362614021           1      0                 0   \n",
      "4  4972981595421567469           0      0                 0   \n",
      "\n",
      "             device_id            device_ip         device_model  device_type  \\\n",
      "0  4105829326841158888 -2002047080567455197  -668372374730861734            1   \n",
      "1  4105829326841158888  -691767878883573512  1424864932104023442            1   \n",
      "2  4105829326841158888  1320425763755617992  -981890048200586582            1   \n",
      "3  4105829326841158888 -7019658366751777257  7854937203664131956            1   \n",
      "4  4105829326841158888  2094442007641919403 -1979530580517801839            1   \n",
      "\n",
      "                 hour                    id  product_type  search_engine_type  \\\n",
      "0 2014-10-21 02:00:00  13124278056745303300           687                1005   \n",
      "1 2014-10-21 02:00:00  11768152745587996909            35                1005   \n",
      "2 2014-10-21 02:00:00  13420865421990613919            35                1005   \n",
      "3 2014-10-21 02:00:00  10384049387806107497            35                1005   \n",
      "4 2014-10-21 01:00:00   9811223304943165046            35                1005   \n",
      "\n",
      "         site_category          site_domain              site_id  hour_of_day  \n",
      "0  1921691362980566079 -4063497143476493432 -4768733828942341756            2  \n",
      "1 -6891198169605014007 -4783517315308863703  -701281372343334288            2  \n",
      "2 -6891198169605014007 -4783517315308863703  -701281372343334288            2  \n",
      "3 -8595855641832586545 -7459070302547265994  8642377811485401093            2  \n",
      "4  1921691362980566079 -4063497143476493432 -4768733828942341756            1  \n"
     ]
    }
   ],
   "source": [
    "# Get categorical columns\n",
    "categorical_cols = df.select_dtypes(\n",
    "  include = ['object']).columns.tolist()\n",
    "print(\"Categorical columns: \")\n",
    "print(categorical_cols)\n",
    "\n",
    "# Iterate over categorical columns and apply hash function\n",
    "for col in categorical_cols:\n",
    "\tdf[col] = df[col].apply(lambda x: hash(x))\n",
    "\n",
    "# Print examples of new output\n",
    "print(df.head(5))"
   ]
  },
  {
   "cell_type": "markdown",
   "metadata": {},
   "source": [
    "# Creating new features\n",
    "Feature engineering includes also the actual creation of new features. Creating new features is important since the model relies on such features for prediction accuracy. In this exercise, you will check on properties of three columns which appear as integers in the data but represent categorical values. These three columns are: search_engine_type, product_type, and advertiser_type. You will create count features for those 3 columns, as well as device_id and site_id. These count features represent the number of clicks for each of those columns and will be used later on for prediction."
   ]
  },
  {
   "cell_type": "code",
   "execution_count": 13,
   "metadata": {},
   "outputs": [
    {
     "name": "stdout",
     "output_type": "stream",
     "text": [
      "500\n",
      "4\n",
      "500\n",
      "24\n",
      "500\n",
      "23\n",
      "   advertiser_type         app_category           app_domain  \\\n",
      "0               48 -6331854816477907478 -1057993732622977416   \n",
      "1               79  6095358548977309062  2285468481470867730   \n",
      "2               79  6095358548977309062  2285468481470867730   \n",
      "3               79  6095358548977309062  2285468481470867730   \n",
      "4              157 -6331854816477907478 -1057993732622977416   \n",
      "\n",
      "                app_id  banner_pos  click  device_conn_type  \\\n",
      "0  2300043273097231031           0      0                 0   \n",
      "1 -2736973466362614021           0      0                 2   \n",
      "2 -2736973466362614021           0      0                 0   \n",
      "3 -2736973466362614021           1      0                 0   \n",
      "4  4972981595421567469           0      0                 0   \n",
      "\n",
      "             device_id            device_ip         device_model  ...  \\\n",
      "0  4105829326841158888 -2002047080567455197  -668372374730861734  ...   \n",
      "1  4105829326841158888  -691767878883573512  1424864932104023442  ...   \n",
      "2  4105829326841158888  1320425763755617992  -981890048200586582  ...   \n",
      "3  4105829326841158888 -7019658366751777257  7854937203664131956  ...   \n",
      "4  4105829326841158888  2094442007641919403 -1979530580517801839  ...   \n",
      "\n",
      "   search_engine_type        site_category          site_domain  \\\n",
      "0                1005  1921691362980566079 -4063497143476493432   \n",
      "1                1005 -6891198169605014007 -4783517315308863703   \n",
      "2                1005 -6891198169605014007 -4783517315308863703   \n",
      "3                1005 -8595855641832586545 -7459070302547265994   \n",
      "4                1005  1921691362980566079 -4063497143476493432   \n",
      "\n",
      "               site_id  hour_of_day  device_id_count  site_id_count  \\\n",
      "0 -4768733828942341756            2              426            158   \n",
      "1  -701281372343334288            2              426            124   \n",
      "2  -701281372343334288            2              426            124   \n",
      "3  8642377811485401093            2              426             19   \n",
      "4 -4768733828942341756            1              426            158   \n",
      "\n",
      "   search_engine_type_count  product_type_count  advertiser_type_count  \n",
      "0                       475                  17                     20  \n",
      "1                       475                 203                    133  \n",
      "2                       475                 203                    133  \n",
      "3                       475                 203                    133  \n",
      "4                       475                 203                     51  \n",
      "\n",
      "[5 rows x 24 columns]\n"
     ]
    }
   ],
   "source": [
    "# Get counts of total and unique values for given features\n",
    "feature_list = [\"search_engine_type\", \"product_type\", \"advertiser_type\"]\n",
    "for feature in feature_list:\n",
    "\tprint(df[feature].count())\n",
    "\tprint(df[feature].nunique())\n",
    "\n",
    "# Define new features as counts\n",
    "new_feature_list = ['device_id', 'site_id'] + feature_list\n",
    "for new_feature in new_feature_list:\n",
    "  df[new_feature + '_count'] = df.groupby(\n",
    "    new_feature)['click'].transform(\"count\")\n",
    "print(df.head(5))"
   ]
  },
  {
   "cell_type": "markdown",
   "metadata": {},
   "source": [
    "# Log normalization\n",
    "Standardization is important to make sure all features are comparable. Log normalization is a common method of standardization. You will check the variance of select features and compute the overall median variance among features. The features will be the numeric ones, except for the click column, banner_pos, device_type, and columns search_engine_type, product_type, advertiser_type from last lesson since they are actually categorical columns. Then you will apply log normalization to these columns with a variance higher than the median variance and check results."
   ]
  },
  {
   "cell_type": "code",
   "execution_count": 18,
   "metadata": {},
   "outputs": [
    {
     "name": "stdout",
     "output_type": "stream",
     "text": [
      "5.861013843604908e+36\n"
     ]
    },
    {
     "name": "stderr",
     "output_type": "stream",
     "text": [
      "/usr/local/lib/python3.7/site-packages/ipykernel_launcher.py:13: RuntimeWarning: invalid value encountered in log\n",
      "  del sys.path[0]\n"
     ]
    },
    {
     "name": "stdout",
     "output_type": "stream",
     "text": [
      "0.7624620829361591\n"
     ]
    }
   ],
   "source": [
    "import numpy as np\n",
    "# Select numeric columns and print median variance\n",
    "num_df = df.select_dtypes(include=['int', 'float'])\n",
    "filter_cols = ['click', 'banner_pos', 'device_type',\n",
    "               'search_engine_type', 'product_type', 'advertiser_type']\n",
    "new_df = num_df[num_df.columns[~num_df.columns.isin(filter_cols)]]\n",
    "median = new_df.var().median()\n",
    "print(median)\n",
    "\n",
    "# Apply log normalization on columns with higher than median variance\n",
    "change_cols = new_df.columns[new_df.var() > median].tolist()\n",
    "new_df[change_cols] = new_df[change_cols].apply(\n",
    "  lambda x: np.log(x))\n",
    "print(new_df.var().median())"
   ]
  },
  {
   "cell_type": "markdown",
   "metadata": {},
   "source": [
    "# Standard scaling\n",
    "Standard scaling transforms numerical features to have a mean of 0 and variance of 1. In this exercise, you will do standard scaling using StandardScaler() from sklearn. First, you will select only the relevant columns to apply scaling on, using a combination of filtering for numerical columns along with some knowledge of the columns. This filtering is already provided and will be done through the use of regular expressions, which allows for partial string matches. Then you will use fit_transform() to transform the relevant columns."
   ]
  },
  {
   "cell_type": "code",
   "execution_count": 19,
   "metadata": {},
   "outputs": [
    {
     "name": "stdout",
     "output_type": "stream",
     "text": [
      "app_category                3.064216e-17\n",
      "app_domain                  9.570122e-17\n",
      "app_id                      5.706546e-17\n",
      "device_conn_type           -9.614531e-17\n",
      "device_id                  -4.267697e-16\n",
      "device_ip                   1.598721e-17\n",
      "device_model                3.730349e-17\n",
      "site_category              -3.019807e-17\n",
      "site_domain                 4.807266e-17\n",
      "site_id                     6.661338e-18\n",
      "hour_of_day                 2.982059e-16\n",
      "device_id_count            -1.201261e-16\n",
      "site_id_count              -7.549517e-17\n",
      "search_engine_type_count    2.023937e-16\n",
      "product_type_count         -6.039613e-17\n",
      "advertiser_type_count       1.185718e-16\n",
      "dtype: float64\n",
      "app_category                1.002004\n",
      "app_domain                  1.002004\n",
      "app_id                      1.002004\n",
      "device_conn_type            1.002004\n",
      "device_id                   1.002004\n",
      "device_ip                   1.002004\n",
      "device_model                1.002004\n",
      "site_category               1.002004\n",
      "site_domain                 1.002004\n",
      "site_id                     1.002004\n",
      "hour_of_day                 1.002004\n",
      "device_id_count             1.002004\n",
      "site_id_count               1.002004\n",
      "search_engine_type_count    1.002004\n",
      "product_type_count          1.002004\n",
      "advertiser_type_count       1.002004\n",
      "dtype: float64\n"
     ]
    }
   ],
   "source": [
    "from sklearn.preprocessing import StandardScaler\n",
    "\n",
    "# Get non-categorical columns, with a filter\n",
    "num_df = df.select_dtypes(include=['int', 'float'])\n",
    "filter_cols = ['click', 'banner_pos', 'device_type',\n",
    "               'search_engine_type', 'product_type', 'advertiser_type']\n",
    "new_df = num_df[num_df.columns[~num_df.columns.isin(filter_cols)]]\n",
    "num_cols = new_df.columns\n",
    "\n",
    "# Transform columns using StandardScaler\n",
    "scaler = StandardScaler()\n",
    "df[num_cols] = scaler.fit_transform(df[num_cols])\n",
    "\n",
    "# Print mean and variance of transformed columns\n",
    "print(df[num_cols].mean())\n",
    "print(df[num_cols].var())"
   ]
  },
  {
   "cell_type": "code",
   "execution_count": null,
   "metadata": {},
   "outputs": [],
   "source": []
  }
 ],
 "metadata": {
  "kernelspec": {
   "display_name": "Python 3",
   "language": "python",
   "name": "python3"
  },
  "language_info": {
   "codemirror_mode": {
    "name": "ipython",
    "version": 3
   },
   "file_extension": ".py",
   "mimetype": "text/x-python",
   "name": "python",
   "nbconvert_exporter": "python",
   "pygments_lexer": "ipython3",
   "version": "3.7.2"
  }
 },
 "nbformat": 4,
 "nbformat_minor": 2
}
