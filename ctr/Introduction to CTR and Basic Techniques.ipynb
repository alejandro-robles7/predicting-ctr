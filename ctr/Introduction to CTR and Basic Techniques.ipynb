{
 "cells": [
  {
   "cell_type": "markdown",
   "metadata": {},
   "source": [
    "# Beginning steps\n",
    "\n",
    "In this exercise, you will get a quick look at sample data using some basic DataFrame operations and taking a first look at CTR. The data comes from Avazu, a leading global advertising platform and captures user interactions on various device types for different websites and apps.\n",
    "\n",
    "The target variable will be in the click column. The hour is in a YYMMDDHH format, and there are a few integer columns: device_type for the type of device, banner_pos for the position of a banner ad (also known as a display ad), etc. There will also be other variables discussed in later chapters.\n",
    "\n",
    "Sample data in DataFrame form is loaded as df.pandas as pd are available in your workspace."
   ]
  },
  {
   "cell_type": "code",
   "execution_count": 5,
   "metadata": {},
   "outputs": [
    {
     "name": "stdout",
     "output_type": "stream",
     "text": [
      "     C1    C14  C15  C16   C17  C18  C19     C20  C21  banner_pos  click  \\\n",
      "0  1005  20596  320   50  2161    0   35      -1  157           0      0   \n",
      "1  1005  15701  320   50  1722    0   35  100084   79           0      1   \n",
      "2  1005  20596  320   50  2161    0   35      -1  157           0      0   \n",
      "3  1005  20362  320   50  2333    0   39      -1  157           0      0   \n",
      "4  1005  17212  320   50  1887    3   39      -1   23           0      1   \n",
      "\n",
      "   device_conn_type     device_model_int  device_type      hour  \n",
      "0                 0 -6892224247118359062            1  14102100  \n",
      "1                 0   137884114573136964            1  14102100  \n",
      "2                 0 -2512938341375609741            1  14102100  \n",
      "3                 0  7741261153921945767            1  14102100  \n",
      "4                 0  7090997833464111984            1  14102100  \n",
      "Index(['C1', 'C14', 'C15', 'C16', 'C17', 'C18', 'C19', 'C20', 'C21',\n",
      "       'banner_pos', 'click', 'device_conn_type', 'device_model_int',\n",
      "       'device_type', 'hour'],\n",
      "      dtype='object')\n",
      "Sample CTR :\n",
      " 0.36666666666666664\n"
     ]
    }
   ],
   "source": [
    "# Import data\n",
    "from pandas import read_pickle\n",
    "df = read_pickle(\"data/data.pkl\")\n",
    "\n",
    "# Look at basics of Dataframe \n",
    "print(df.head(5))\n",
    "print(df.columns)\n",
    "\n",
    "# Define X and y\n",
    "X = df.loc[:, ~df.columns.isin(['click'])]\n",
    "y = df.click\n",
    "\n",
    "# Sample CTR\n",
    "print(\"Sample CTR :\\n\", \n",
    "      y.sum()/len(y))"
   ]
  },
  {
   "cell_type": "markdown",
   "metadata": {},
   "source": [
    "# Feature exploration\n",
    "Using the same Avazu dataset, you will explore how the values of device_type and banner_pos are distributed, as well as how CTR varies based on them.\n",
    "\n",
    "Sample data in DataFrame form is loaded as df. The X and y variables that you created in the last exercise are available in your workspace. pandas as pd are also available in your workspace."
   ]
  },
  {
   "cell_type": "code",
   "execution_count": 7,
   "metadata": {},
   "outputs": [
    {
     "name": "stdout",
     "output_type": "stream",
     "text": [
      "Distribution of device type: \n",
      "1    0.966667\n",
      "0    0.033333\n",
      "Name: device_type, dtype: float64\n",
      "CTR by device type: \n",
      "device_type\n",
      "0    0.033333\n",
      "1    0.333333\n",
      "Name: click, dtype: float64\n"
     ]
    }
   ],
   "source": [
    "# Distribution of values for device type\n",
    "print(\"Distribution of device type: \")\n",
    "print(X.device_type.value_counts()/len(X))\n",
    "\n",
    "# Sample CTR by device type \n",
    "print(\"CTR by device type: \")\n",
    "print(df.groupby('device_type')['click'].sum()/len(y))\n",
    "\n",
    "# Distribution of values for banner position\n",
    "print(\"Distribution of banner position: \")\n",
    "print(X.banner_pos.value_counts()/len(X))\n",
    "\n",
    "# Sample CTR by banner position\n",
    "print(\"CTR by banner position: \")\n",
    "print(df.groupby('banner_pos')['click'].sum()/len(y))"
   ]
  },
  {
   "cell_type": "markdown",
   "metadata": {},
   "source": [
    "For both device type and banner position, notice that a significant portion of values seem to be in a particular category, and that there seems to be a particular breakdown that has a significantly higher CTR than the other values."
   ]
  },
  {
   "cell_type": "code",
   "execution_count": null,
   "metadata": {},
   "outputs": [],
   "source": []
  }
 ],
 "metadata": {
  "kernelspec": {
   "display_name": "Python 3",
   "language": "python",
   "name": "python3"
  },
  "language_info": {
   "codemirror_mode": {
    "name": "ipython",
    "version": 3
   },
   "file_extension": ".py",
   "mimetype": "text/x-python",
   "name": "python",
   "nbconvert_exporter": "python",
   "pygments_lexer": "ipython3",
   "version": "3.7.2"
  }
 },
 "nbformat": 4,
 "nbformat_minor": 2
}
